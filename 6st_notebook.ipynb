{
 "cells": [
  {
   "cell_type": "markdown",
   "id": "56d113d1",
   "metadata": {
    "pycharm": {
     "name": "#%% md\n"
    }
   },
   "source": [
    "# Задание 1.1.1 (Вариант 4)\n",
    "Выполните по вариантам соответственно реализацию генетического алгоритма в соответствии с приложенными начальными данными."
   ]
  },
  {
   "cell_type": "code",
   "execution_count": 5,
   "id": "7e058710",
   "metadata": {
    "pycharm": {
     "name": "#%%\n"
    }
   },
   "outputs": [
    {
     "name": "stdout",
     "output_type": "stream",
     "text": [
      "max_1_step: 1.4857142857142858\n",
      "max_2_step: 1.4615384615384615\n",
      "max_3_step: 2.967032967032967\n",
      "max_4_step: 3.5384615384615383\n",
      "max Z:    1.0\n"
     ]
    }
   ],
   "source": [
    "def qZ(x,y):\n",
    "    return (x + 3 * y) / (3*x**2 + y**2 + 1)\n",
    "\n",
    "def qSumZ(Z):\n",
    "    return sum(Z)\n",
    "\n",
    "def exchangeScheme(oldX, oldY, sortedId):\n",
    "    X = [0 for i in range(4)]\n",
    "    Y = [0 for i in range(4)]\n",
    "\n",
    "    X[2] = oldX[sortedId[2]]\n",
    "    X[3] = oldX[sortedId[2]]\n",
    "\n",
    "    X[0] = oldX[sortedId[0]]\n",
    "\n",
    "    X[1] = oldX[sortedId[1]]\n",
    "\n",
    "    \n",
    "    Y[0] = oldY[sortedId[2]]\n",
    "    Y[1] = oldY[sortedId[2]]\n",
    "\n",
    "    Y[2] = oldY[sortedId[0]]\n",
    "\n",
    "    Y[3] = oldY[sortedId[1]]\n",
    "\n",
    "    return X, Y\n",
    "\n",
    "def sorting(Z):\n",
    "    sortedId = sorted(range(len(Z)), key = lambda k: Z[k])\n",
    "\n",
    "    return sortedId\n",
    "\n",
    "def evoStep(X,Y,Z):\n",
    "    _, minId = min((value, id) for (id, value) in enumerate(Z))\n",
    "    X = X[:]\n",
    "    Y = Y[:]\n",
    "    Z = Z[:]\n",
    "\n",
    "    X.pop(minId)\n",
    "    Y.pop(minId)\n",
    "    Z.pop(minId)\n",
    "    return X, Y, Z\n",
    "\n",
    "def evoSteps(X, Y, stepsNum=4):\n",
    "    results=[]\n",
    "    for i in range(4):\n",
    "        arrZ = [qZ(x, Y[i]) for i, x in enumerate(X)]\n",
    "        X, Y, Z = evoStep(X, Y, arrZ)\n",
    "        X, Y = exchangeScheme(X, Y, sorting(Z))\n",
    "        results.append([X, Y, qSumZ(arrZ), arrZ])\n",
    "    return X, Y, results\n",
    "\n",
    "X = [-1, 0, 2, 4]\n",
    "Y = [-2, 1, -1, 0]\n",
    "\n",
    "results = evoSteps(X, Y)\n",
    "\n",
    "for i in range(len(results[2])):\n",
    "    print(f'max_{i+1}_step: {results[2][i][2]}')\n",
    "\n",
    "qualityArrZ = []\n",
    "\n",
    "for i in range(len(results[2])):\n",
    "    qualityArrZ += results[2][i][3]\n",
    "\n",
    "print(f'max Z:    {max(qualityArrZ)}')"
   ]
  },
  {
   "cell_type": "markdown",
   "id": "3f5bf473",
   "metadata": {
    "pycharm": {
     "name": "#%% md\n"
    }
   },
   "source": [
    "# Задание 1.2.1\n"
   ]
  },
  {
   "cell_type": "code",
   "execution_count": 6,
   "id": "535cecf7",
   "metadata": {
    "pycharm": {
     "name": "#%%\n"
    }
   },
   "outputs": [
    {
     "name": "stdout",
     "output_type": "stream",
     "text": [
      "max_1_step: -0.9738562091503267\n",
      "max_2_step: 0.7748068924539511\n",
      "max_3_step: 0.9251336898395722\n",
      "max_4_step: 1.7290552584670231\n",
      "max Z:    0.47058823529411764\n"
     ]
    }
   ],
   "source": [
    "def qZ(x,y):\n",
    "    return (x - 3*y) / (2*x**2 + 2*y**2 + 1)\n",
    "\n",
    "X = [-1, 0, 2, 3]\n",
    "Y = [0, 1, -2, 2]\n",
    "\n",
    "# реализвция алгоритма\n",
    "results = evoSteps(X, Y)\n",
    "\n",
    "for i in range(len(results[2])):\n",
    "    print(f'max_{i+1}_step: {results[2][i][2]}')\n",
    "\n",
    "qualityArrZ = []\n",
    "\n",
    "for i in range(len(results[2])):\n",
    "    qualityArrZ += results[2][i][3]\n",
    "\n",
    "print(f'max Z:    {max(qualityArrZ)}')"
   ]
  },
  {
   "cell_type": "markdown",
   "id": "fce7ba73",
   "metadata": {
    "pycharm": {
     "name": "#%% md\n"
    }
   },
   "source": [
    "# Задание 1.2.1 (Гамильтонов граф)"
   ]
  },
  {
   "cell_type": "code",
   "execution_count": 9,
   "id": "7fe52a65",
   "metadata": {
    "pycharm": {
     "name": "#%%\n"
    }
   },
   "outputs": [],
   "source": [
    "import networkx as nx\n",
    "from math import e"
   ]
  },
  {
   "cell_type": "code",
   "execution_count": 10,
   "id": "89df729d",
   "metadata": {
    "pycharm": {
     "name": "#%%\n"
    }
   },
   "outputs": [],
   "source": [
    "distances =[(1, 2, 20),\n",
    "            (1, 3, 48),\n",
    "            (1, 4, 42),\n",
    "            (1, 5, 33),\n",
    "            (1, 6, 21),\n",
    "            (2, 3, 26),\n",
    "            (2, 4, 38),\n",
    "            (2, 5, 42),\n",
    "            (2, 6, 17),\n",
    "            (3, 4, 22),\n",
    "            (3, 5, 43),\n",
    "            (3, 6, 21),\n",
    "            (4, 5, 27),\n",
    "            (4, 6, 22),\n",
    "            (5, 6, 26)] # длины ребер\n",
    "\n",
    "V = [1, 4, 5, 2, 6, 3, 1] # последовательность прохождения маршрута\n",
    "Z = [(3, 4),\n",
    "     (4, 6),\n",
    "     (5, 2),\n",
    "     (6, 2)] # nocnedo6amensnocms sanen Gepuun\n",
    "\n",
    "P = [49, 54, 43, 54] # случайные числа, выпавшие в процессе счета\n",
    "\n",
    "T = 100 # начальная температура"
   ]
  },
  {
   "cell_type": "code",
   "execution_count": 11,
   "id": "c1871ae9",
   "metadata": {
    "pycharm": {
     "name": "#%%\n"
    }
   },
   "outputs": [],
   "source": [
    "def probability(delta, T):\n",
    "    return 100 * e ** (-delta/T)\n",
    "\n",
    "# функция изменения температуры\n",
    "def reductTemp(prevT):\n",
    "    nextT = 0.5 * prevT\n",
    "    return nextT"
   ]
  },
  {
   "cell_type": "code",
   "execution_count": 12,
   "id": "63a0cc6a",
   "metadata": {
    "pycharm": {
     "name": "#%%\n"
    }
   },
   "outputs": [
    {
     "data": {
      "image/png": "[encoded data removed]",
      "text/plain": [
       "<Figure size 432x288 with 1 Axes>"
      ]
     },
     "metadata": {},
     "output_type": "display_data"
    }
   ],
   "source": [
    "graph = nx.Graph() # создание пустого графа\n",
    "graph.add_weighted_edges_from(distances) # Добавление весов ребер\n",
    "\n",
    "# отрисовка графа с заданными вершинами\n",
    "nx.draw_kamada_kawai(graph, node_color = '#fb7258', node_size = 2000, with_labels = True)"
   ]
  },
  {
   "cell_type": "code",
   "execution_count": 13,
   "id": "e48f8630",
   "metadata": {
    "pycharm": {
     "name": "#%%\n"
    }
   },
   "outputs": [],
   "source": [
    "def edgeLength(i, j, distances, roundTrip = True):\n",
    "    if roundTrip:\n",
    "        return max([(item[2] if (item[0] == i and item[1] == j) or (item[1] == i and item[0] == j) else -1)\n",
    "                    for item in distances])\n",
    "    else:\n",
    "        return max([(item[2] if (item[0] == i and item[1] == j) else -1)\n",
    "                    for item in distances])"
   ]
  },
  {
   "cell_type": "code",
   "execution_count": 14,
   "id": "b3704480",
   "metadata": {
    "pycharm": {
     "name": "#%%\n"
    }
   },
   "outputs": [],
   "source": [
    "def routeLength(V, distances):\n",
    "    edges = []\n",
    "    for i in range(len(V) - 1):\n",
    "        edges.append(edgeLength(V[i], V[i+1], distances))\n",
    "    return sum(edges)"
   ]
  },
  {
   "cell_type": "code",
   "execution_count": 15,
   "id": "c526f634",
   "metadata": {
    "pycharm": {
     "name": "#%%\n"
    }
   },
   "outputs": [],
   "source": [
    "def routeOneReplacement(arrV, Z, replacementByName=True):\n",
    "    decrement = 1 if replacementByName else 0\n",
    "\n",
    "    arrV[Z[0] - decrement], arrV[Z[1] - decrement] = arrV[Z[1] - decrement], arrV[Z[0] - decrement]\n",
    "\n",
    "    return arrV"
   ]
  },
  {
   "cell_type": "code",
   "execution_count": 16,
   "id": "8bcba6b4",
   "metadata": {
    "pycharm": {
     "name": "#%%\n"
    }
   },
   "outputs": [],
   "source": [
    "def routeReplacement(V,Z):\n",
    "    for z in Z:\n",
    "        V = routeReplacement(V,z)\n",
    "    return V"
   ]
  },
  {
   "cell_type": "code",
   "execution_count": 17,
   "id": "ee077361",
   "metadata": {
    "pycharm": {
     "name": "#%%\n"
    }
   },
   "outputs": [],
   "source": [
    "def chooseRoute(distances, V, Z, T, P):\n",
    "    sumLength = routeLength(V, distances) # нахождение длин пути\n",
    "    arrSum = [sumLength] # массив сумм длин\n",
    "\n",
    "    # циклы методом отжига\n",
    "    for i in range(len(Z)):\n",
    "        newV = routeOneReplacement(V[:], Z[i]) # новый маршрут после перестановки\n",
    "        newS = routeLength(newV, distances) # Длина нового маршрута\n",
    "        arrSum.append(newS)\n",
    "        deltaS = newS - sumLength # разница длин старого и нового маршрута \n",
    "\n",
    "        # в случае если разница между длинами больше нуля, то вычисляется вероятность\n",
    "        if deltaS > 0:\n",
    "            p = probability(deltaS, T) # подсчет вероятности\n",
    "\n",
    "            # если заданная вероятность попадает в интервал от 0 до р, то новый маршрут выбирается\n",
    "            if p > P[i]:\n",
    "                V = newV\n",
    "                sumLength = newS\n",
    "        else:\n",
    "            V = newV\n",
    "            sumLength = newS\n",
    "        \n",
    "        T = reductTemp(T) # вычисление температуры\n",
    "    return V, arrSum"
   ]
  },
  {
   "cell_type": "code",
   "execution_count": 18,
   "id": "bdaf676f",
   "metadata": {
    "pycharm": {
     "name": "#%%\n"
    }
   },
   "outputs": [],
   "source": [
    "from xml.dom import NOT_FOUND_ERR\n",
    "\n",
    "\n",
    "def drawRouteGraph(distances, bestRoute):\n",
    "    newDistances = []\n",
    "    # прохождение по вектору\n",
    "    for i in range(len(bestRoute) - 1):\n",
    "        for distance in distances:\n",
    "            if distance[0] == bestRoute[i] and distance[1] == bestRoute[i+1] or distance[1] == bestRoute[i] and distance[0] == bestRoute[i+1]:\n",
    "                newDistances.append(distance)\n",
    "\n",
    "    graph = nx.Graph() # создание пустого графа\n",
    "\n",
    "    graph.add_weighted_edges_from(newDistances) # добавление весов ребер\n",
    "    # отрисовка графа с заданными вершинами\n",
    "    nx.draw_kamada_kawai(graph, node_color='#fb7258', node_size=2000, with_labels=True)"
   ]
  },
  {
   "cell_type": "code",
   "execution_count": 19,
   "id": "d7e311ee",
   "metadata": {
    "pycharm": {
     "name": "#%%\n"
    }
   },
   "outputs": [
    {
     "name": "stdout",
     "output_type": "stream",
     "text": [
      "лучший выбранный маршрут: [1, 6, 2, 3, 4, 5, 1]\n",
      "длина лучшего выбранного маршрута: 146\n",
      "длины всех рассмотренных маршрутов: [197, 217, 186, 146, 166]\n"
     ]
    },
    {
     "data": {
      "image/png": "[encoded data removed]",
      "text/plain": [
       "<Figure size 432x288 with 1 Axes>"
      ]
     },
     "metadata": {},
     "output_type": "display_data"
    }
   ],
   "source": [
    "bestRoute, arrLength = chooseRoute(distances, V, Z, T, P)\n",
    "\n",
    "print(f'Лучший выбранный маршрут: {bestRoute}')\n",
    "print(f'Длина лучшего выбранного маршрута: {routeLength(bestRoute, distances)}')\n",
    "print(f'Длины всех рассмотренных маршрутов: {arrLength}')\n",
    "\n",
    "drawRouteGraph(distances, bestRoute) # отрисовка лучшего маршрута"
   ]
  },
  {
   "cell_type": "markdown",
   "id": "4e4313d4",
   "metadata": {
    "pycharm": {
     "name": "#%% md\n"
    }
   },
   "source": [
    "# Задание (Вариант 5)\n",
    "Найти длину гамильтонова цикла S4в полном графе К6 после четырех циклов решения задачи методом отжига по вариантам ниже."
   ]
  },
  {
   "cell_type": "code",
   "execution_count": 20,
   "id": "688ffd3c",
   "metadata": {
    "pycharm": {
     "name": "#%%\n"
    }
   },
   "outputs": [],
   "source": [
    "distances =[(1, 2, 17),\n",
    "            (1, 3, 39),\n",
    "            (1, 4, 32),\n",
    "            (1, 5, 28),\n",
    "            (1, 6, 18),\n",
    "            (2, 3, 24),\n",
    "            (2, 4, 28),\n",
    "            (2, 5, 35),\n",
    "            (2, 6, 13),\n",
    "            (3, 4, 25),\n",
    "            (3, 5, 43),\n",
    "            (3, 6, 23),\n",
    "            (4, 5, 20),\n",
    "            (4, 6, 16),\n",
    "            (5, 6, 24)] # длины ребер\n",
    "\n",
    "V = [1, 5, 2, 6, 3, 4, 1] # последовательность прохождения маршрута\n",
    "Z = [(5, 2),\n",
    "     (4, 5),\n",
    "     (2, 3),\n",
    "     (3, 4)] # nocnedo6amensnocms sanen Gepuun\n",
    "\n",
    "P = [88, 54, 24, 64] # случайные числа, выпавшие в процессе счета\n",
    "\n",
    "T = 100 # начальная температура"
   ]
  },
  {
   "cell_type": "code",
   "execution_count": 21,
   "id": "3598cb5c",
   "metadata": {
    "pycharm": {
     "name": "#%%\n"
    }
   },
   "outputs": [
    {
     "name": "stdout",
     "output_type": "stream",
     "text": [
      "лучший выбранный маршрут: [1, 2, 5, 4, 3, 6, 1]\n",
      "длина лучшего выбранного маршрута: 139\n",
      "длины всех рассмотренных маршрутов: [177, 148, 157, 139, 154]\n"
     ]
    },
    {
     "data": {
      "image/png": "[encoded data removed]",
      "text/plain": [
       "<Figure size 432x288 with 1 Axes>"
      ]
     },
     "metadata": {},
     "output_type": "display_data"
    }
   ],
   "source": [
    "bestRoute, arrLength = chooseRoute(distances, V, Z, T, P)\n",
    "\n",
    "print(f'лучший выбранный маршрут: {bestRoute}')\n",
    "print(f'длина лучшего выбранного маршрута: {routeLength(bestRoute, distances)}')\n",
    "print(f'длины всех рассмотренных маршрутов: {arrLength}')\n",
    "\n",
    "drawRouteGraph(distances, bestRoute) # отрисовка лучшего маршрута"
   ]
  }
 ],
 "metadata": {
  "kernelspec": {
   "display_name": "Python 3 (ipykernel)",
   "language": "python",
   "name": "python3"
  },
  "language_info": {
   "codemirror_mode": {
    "name": "ipython",
    "version": 3
   },
   "file_extension": ".py",
   "mimetype": "text/x-python",
   "name": "python",
   "nbconvert_exporter": "python",
   "pygments_lexer": "ipython3",
   "version": "3.9.12"
  }
 },
 "nbformat": 4,
 "nbformat_minor": 5
}